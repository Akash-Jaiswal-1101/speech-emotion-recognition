{
 "cells": [
  {
   "cell_type": "code",
   "execution_count": null,
   "metadata": {
    "_cell_guid": "b1076dfc-b9ad-4769-8c92-a6c4dae69d19",
    "_uuid": "8f2839f25d086af736a60e9eeb907d3b93b6e0e5",
    "trusted": true
   },
   "outputs": [],
   "source": [
    "# This Python 3 environment comes with many helpful analytics libraries installed\n",
    "# It is defined by the kaggle/python Docker image: https://github.com/kaggle/docker-python\n",
    "# For example, here's several helpful packages to load\n",
    "\n",
    "import numpy as np # linear algebra\n",
    "import pandas as pd # data processing, CSV file I/O (e.g. pd.read_csv)\n",
    "\n",
    "# Input data files are available in the read-only \"../input/\" directory\n",
    "# For example, running this (by clicking run or pressing Shift+Enter) will list all files under the input directory\n",
    "\n",
    "import os\n",
    "for dirname, _, filenames in os.walk('/kaggle/input'):\n",
    "    for filename in filenames:\n",
    "        print(os.path.join(dirname, filename))\n",
    "\n",
    "# You can write up to 20GB to the current directory (/kaggle/working/) that gets preserved as output when you create a version using \"Save & Run All\" \n",
    "# You can also write temporary files to /kaggle/temp/, but they won't be saved outside of the current session"
   ]
  },
  {
   "cell_type": "markdown",
   "metadata": {},
   "source": [
    "# Install required libraries"
   ]
  },
  {
   "cell_type": "code",
   "execution_count": 3,
   "metadata": {
    "execution": {
     "iopub.execute_input": "2025-06-25T13:09:57.369276Z",
     "iopub.status.busy": "2025-06-25T13:09:57.368722Z",
     "iopub.status.idle": "2025-06-25T13:11:36.313379Z",
     "shell.execute_reply": "2025-06-25T13:11:36.312787Z",
     "shell.execute_reply.started": "2025-06-25T13:09:57.369256Z"
    },
    "trusted": true
   },
   "outputs": [
    {
     "name": "stdout",
     "output_type": "stream",
     "text": [
      "Requirement already satisfied: torch in /usr/local/lib/python3.11/dist-packages (2.6.0+cu124)\n",
      "Requirement already satisfied: torchaudio in /usr/local/lib/python3.11/dist-packages (2.6.0+cu124)\n",
      "Requirement already satisfied: numpy in /usr/local/lib/python3.11/dist-packages (1.26.4)\n",
      "Requirement already satisfied: pandas in /usr/local/lib/python3.11/dist-packages (2.2.3)\n",
      "Requirement already satisfied: librosa in /usr/local/lib/python3.11/dist-packages (0.11.0)\n",
      "Requirement already satisfied: scikit-learn in /usr/local/lib/python3.11/dist-packages (1.2.2)\n",
      "Requirement already satisfied: matplotlib in /usr/local/lib/python3.11/dist-packages (3.7.2)\n",
      "Requirement already satisfied: seaborn in /usr/local/lib/python3.11/dist-packages (0.12.2)\n",
      "Requirement already satisfied: filelock in /usr/local/lib/python3.11/dist-packages (from torch) (3.18.0)\n",
      "Requirement already satisfied: typing-extensions>=4.10.0 in /usr/local/lib/python3.11/dist-packages (from torch) (4.13.2)\n",
      "Requirement already satisfied: networkx in /usr/local/lib/python3.11/dist-packages (from torch) (3.4.2)\n",
      "Requirement already satisfied: jinja2 in /usr/local/lib/python3.11/dist-packages (from torch) (3.1.6)\n",
      "Requirement already satisfied: fsspec in /usr/local/lib/python3.11/dist-packages (from torch) (2025.3.2)\n",
      "Requirement already satisfied: nvidia-cuda-nvrtc-cu12==12.4.127 in /usr/local/lib/python3.11/dist-packages (from torch) (12.4.127)\n",
      "Requirement already satisfied: nvidia-cuda-runtime-cu12==12.4.127 in /usr/local/lib/python3.11/dist-packages (from torch) (12.4.127)\n",
      "Requirement already satisfied: nvidia-cuda-cupti-cu12==12.4.127 in /usr/local/lib/python3.11/dist-packages (from torch) (12.4.127)\n",
      "Collecting nvidia-cudnn-cu12==9.1.0.70 (from torch)\n",
      "  Downloading nvidia_cudnn_cu12-9.1.0.70-py3-none-manylinux2014_x86_64.whl.metadata (1.6 kB)\n",
      "Collecting nvidia-cublas-cu12==12.4.5.8 (from torch)\n",
      "  Downloading nvidia_cublas_cu12-12.4.5.8-py3-none-manylinux2014_x86_64.whl.metadata (1.5 kB)\n",
      "Collecting nvidia-cufft-cu12==11.2.1.3 (from torch)\n",
      "  Downloading nvidia_cufft_cu12-11.2.1.3-py3-none-manylinux2014_x86_64.whl.metadata (1.5 kB)\n",
      "Collecting nvidia-curand-cu12==10.3.5.147 (from torch)\n",
      "  Downloading nvidia_curand_cu12-10.3.5.147-py3-none-manylinux2014_x86_64.whl.metadata (1.5 kB)\n",
      "Collecting nvidia-cusolver-cu12==11.6.1.9 (from torch)\n",
      "  Downloading nvidia_cusolver_cu12-11.6.1.9-py3-none-manylinux2014_x86_64.whl.metadata (1.6 kB)\n",
      "Collecting nvidia-cusparse-cu12==12.3.1.170 (from torch)\n",
      "  Downloading nvidia_cusparse_cu12-12.3.1.170-py3-none-manylinux2014_x86_64.whl.metadata (1.6 kB)\n",
      "Requirement already satisfied: nvidia-cusparselt-cu12==0.6.2 in /usr/local/lib/python3.11/dist-packages (from torch) (0.6.2)\n",
      "Requirement already satisfied: nvidia-nccl-cu12==2.21.5 in /usr/local/lib/python3.11/dist-packages (from torch) (2.21.5)\n",
      "Requirement already satisfied: nvidia-nvtx-cu12==12.4.127 in /usr/local/lib/python3.11/dist-packages (from torch) (12.4.127)\n",
      "Collecting nvidia-nvjitlink-cu12==12.4.127 (from torch)\n",
      "  Downloading nvidia_nvjitlink_cu12-12.4.127-py3-none-manylinux2014_x86_64.whl.metadata (1.5 kB)\n",
      "Requirement already satisfied: triton==3.2.0 in /usr/local/lib/python3.11/dist-packages (from torch) (3.2.0)\n",
      "Requirement already satisfied: sympy==1.13.1 in /usr/local/lib/python3.11/dist-packages (from torch) (1.13.1)\n",
      "Requirement already satisfied: mpmath<1.4,>=1.1.0 in /usr/local/lib/python3.11/dist-packages (from sympy==1.13.1->torch) (1.3.0)\n",
      "Requirement already satisfied: mkl_fft in /usr/local/lib/python3.11/dist-packages (from numpy) (1.3.8)\n",
      "Requirement already satisfied: mkl_random in /usr/local/lib/python3.11/dist-packages (from numpy) (1.2.4)\n",
      "Requirement already satisfied: mkl_umath in /usr/local/lib/python3.11/dist-packages (from numpy) (0.1.1)\n",
      "Requirement already satisfied: mkl in /usr/local/lib/python3.11/dist-packages (from numpy) (2025.1.0)\n",
      "Requirement already satisfied: tbb4py in /usr/local/lib/python3.11/dist-packages (from numpy) (2022.1.0)\n",
      "Requirement already satisfied: mkl-service in /usr/local/lib/python3.11/dist-packages (from numpy) (2.4.1)\n",
      "Requirement already satisfied: python-dateutil>=2.8.2 in /usr/local/lib/python3.11/dist-packages (from pandas) (2.9.0.post0)\n",
      "Requirement already satisfied: pytz>=2020.1 in /usr/local/lib/python3.11/dist-packages (from pandas) (2025.2)\n",
      "Requirement already satisfied: tzdata>=2022.7 in /usr/local/lib/python3.11/dist-packages (from pandas) (2025.2)\n",
      "Requirement already satisfied: audioread>=2.1.9 in /usr/local/lib/python3.11/dist-packages (from librosa) (3.0.1)\n",
      "Requirement already satisfied: numba>=0.51.0 in /usr/local/lib/python3.11/dist-packages (from librosa) (0.60.0)\n",
      "Requirement already satisfied: scipy>=1.6.0 in /usr/local/lib/python3.11/dist-packages (from librosa) (1.15.2)\n",
      "Requirement already satisfied: joblib>=1.0 in /usr/local/lib/python3.11/dist-packages (from librosa) (1.5.0)\n",
      "Requirement already satisfied: decorator>=4.3.0 in /usr/local/lib/python3.11/dist-packages (from librosa) (4.4.2)\n",
      "Requirement already satisfied: soundfile>=0.12.1 in /usr/local/lib/python3.11/dist-packages (from librosa) (0.13.1)\n",
      "Requirement already satisfied: pooch>=1.1 in /usr/local/lib/python3.11/dist-packages (from librosa) (1.8.2)\n",
      "Requirement already satisfied: soxr>=0.3.2 in /usr/local/lib/python3.11/dist-packages (from librosa) (0.5.0.post1)\n",
      "Requirement already satisfied: lazy_loader>=0.1 in /usr/local/lib/python3.11/dist-packages (from librosa) (0.4)\n",
      "Requirement already satisfied: msgpack>=1.0 in /usr/local/lib/python3.11/dist-packages (from librosa) (1.1.0)\n",
      "Requirement already satisfied: threadpoolctl>=2.0.0 in /usr/local/lib/python3.11/dist-packages (from scikit-learn) (3.6.0)\n",
      "Requirement already satisfied: contourpy>=1.0.1 in /usr/local/lib/python3.11/dist-packages (from matplotlib) (1.3.1)\n",
      "Requirement already satisfied: cycler>=0.10 in /usr/local/lib/python3.11/dist-packages (from matplotlib) (0.12.1)\n",
      "Requirement already satisfied: fonttools>=4.22.0 in /usr/local/lib/python3.11/dist-packages (from matplotlib) (4.57.0)\n",
      "Requirement already satisfied: kiwisolver>=1.0.1 in /usr/local/lib/python3.11/dist-packages (from matplotlib) (1.4.8)\n",
      "Requirement already satisfied: packaging>=20.0 in /usr/local/lib/python3.11/dist-packages (from matplotlib) (25.0)\n",
      "Requirement already satisfied: pillow>=6.2.0 in /usr/local/lib/python3.11/dist-packages (from matplotlib) (11.1.0)\n",
      "Requirement already satisfied: pyparsing<3.1,>=2.3.1 in /usr/local/lib/python3.11/dist-packages (from matplotlib) (3.0.9)\n",
      "Requirement already satisfied: llvmlite<0.44,>=0.43.0dev0 in /usr/local/lib/python3.11/dist-packages (from numba>=0.51.0->librosa) (0.43.0)\n",
      "Requirement already satisfied: platformdirs>=2.5.0 in /usr/local/lib/python3.11/dist-packages (from pooch>=1.1->librosa) (4.3.8)\n",
      "Requirement already satisfied: requests>=2.19.0 in /usr/local/lib/python3.11/dist-packages (from pooch>=1.1->librosa) (2.32.3)\n",
      "Requirement already satisfied: six>=1.5 in /usr/local/lib/python3.11/dist-packages (from python-dateutil>=2.8.2->pandas) (1.17.0)\n",
      "Requirement already satisfied: cffi>=1.0 in /usr/local/lib/python3.11/dist-packages (from soundfile>=0.12.1->librosa) (1.17.1)\n",
      "Requirement already satisfied: MarkupSafe>=2.0 in /usr/local/lib/python3.11/dist-packages (from jinja2->torch) (3.0.2)\n",
      "Requirement already satisfied: intel-openmp<2026,>=2024 in /usr/local/lib/python3.11/dist-packages (from mkl->numpy) (2024.2.0)\n",
      "Requirement already satisfied: tbb==2022.* in /usr/local/lib/python3.11/dist-packages (from mkl->numpy) (2022.1.0)\n",
      "Requirement already satisfied: tcmlib==1.* in /usr/local/lib/python3.11/dist-packages (from tbb==2022.*->mkl->numpy) (1.3.0)\n",
      "Requirement already satisfied: intel-cmplr-lib-rt in /usr/local/lib/python3.11/dist-packages (from mkl_umath->numpy) (2024.2.0)\n",
      "Requirement already satisfied: pycparser in /usr/local/lib/python3.11/dist-packages (from cffi>=1.0->soundfile>=0.12.1->librosa) (2.22)\n",
      "Requirement already satisfied: intel-cmplr-lib-ur==2024.2.0 in /usr/local/lib/python3.11/dist-packages (from intel-openmp<2026,>=2024->mkl->numpy) (2024.2.0)\n",
      "Requirement already satisfied: charset-normalizer<4,>=2 in /usr/local/lib/python3.11/dist-packages (from requests>=2.19.0->pooch>=1.1->librosa) (3.4.2)\n",
      "Requirement already satisfied: idna<4,>=2.5 in /usr/local/lib/python3.11/dist-packages (from requests>=2.19.0->pooch>=1.1->librosa) (3.10)\n",
      "Requirement already satisfied: urllib3<3,>=1.21.1 in /usr/local/lib/python3.11/dist-packages (from requests>=2.19.0->pooch>=1.1->librosa) (2.4.0)\n",
      "Requirement already satisfied: certifi>=2017.4.17 in /usr/local/lib/python3.11/dist-packages (from requests>=2.19.0->pooch>=1.1->librosa) (2025.4.26)\n",
      "Downloading nvidia_cublas_cu12-12.4.5.8-py3-none-manylinux2014_x86_64.whl (363.4 MB)\n",
      "\u001b[2K   \u001b[90m━━━━━━━━━━━━━━━━━━━━━━━━━━━━━━━━━━━━━━━━\u001b[0m \u001b[32m363.4/363.4 MB\u001b[0m \u001b[31m4.5 MB/s\u001b[0m eta \u001b[36m0:00:00\u001b[0m0:00:01\u001b[0m00:01\u001b[0m\n",
      "\u001b[?25hDownloading nvidia_cudnn_cu12-9.1.0.70-py3-none-manylinux2014_x86_64.whl (664.8 MB)\n",
      "\u001b[2K   \u001b[90m━━━━━━━━━━━━━━━━━━━━━━━━━━━━━━━━━━━━━━━━\u001b[0m \u001b[32m664.8/664.8 MB\u001b[0m \u001b[31m2.6 MB/s\u001b[0m eta \u001b[36m0:00:00\u001b[0m0:00:01\u001b[0m00:01\u001b[0m\n",
      "\u001b[?25hDownloading nvidia_cufft_cu12-11.2.1.3-py3-none-manylinux2014_x86_64.whl (211.5 MB)\n",
      "\u001b[2K   \u001b[90m━━━━━━━━━━━━━━━━━━━━━━━━━━━━━━━━━━━━━━━━\u001b[0m \u001b[32m211.5/211.5 MB\u001b[0m \u001b[31m8.4 MB/s\u001b[0m eta \u001b[36m0:00:00\u001b[0m0:00:01\u001b[0m00:01\u001b[0m\n",
      "\u001b[?25hDownloading nvidia_curand_cu12-10.3.5.147-py3-none-manylinux2014_x86_64.whl (56.3 MB)\n",
      "\u001b[2K   \u001b[90m━━━━━━━━━━━━━━━━━━━━━━━━━━━━━━━━━━━━━━━━\u001b[0m \u001b[32m56.3/56.3 MB\u001b[0m \u001b[31m30.4 MB/s\u001b[0m eta \u001b[36m0:00:00\u001b[0m:00:01\u001b[0m00:01\u001b[0m\n",
      "\u001b[?25hDownloading nvidia_cusolver_cu12-11.6.1.9-py3-none-manylinux2014_x86_64.whl (127.9 MB)\n",
      "\u001b[2K   \u001b[90m━━━━━━━━━━━━━━━━━━━━━━━━━━━━━━━━━━━━━━━━\u001b[0m \u001b[32m127.9/127.9 MB\u001b[0m \u001b[31m6.8 MB/s\u001b[0m eta \u001b[36m0:00:00\u001b[0m0:00:01\u001b[0m00:01\u001b[0m\n",
      "\u001b[?25hDownloading nvidia_cusparse_cu12-12.3.1.170-py3-none-manylinux2014_x86_64.whl (207.5 MB)\n",
      "\u001b[2K   \u001b[90m━━━━━━━━━━━━━━━━━━━━━━━━━━━━━━━━━━━━━━━━\u001b[0m \u001b[32m207.5/207.5 MB\u001b[0m \u001b[31m8.1 MB/s\u001b[0m eta \u001b[36m0:00:00\u001b[0m0:00:01\u001b[0m00:01\u001b[0m\n",
      "\u001b[?25hDownloading nvidia_nvjitlink_cu12-12.4.127-py3-none-manylinux2014_x86_64.whl (21.1 MB)\n",
      "\u001b[2K   \u001b[90m━━━━━━━━━━━━━━━━━━━━━━━━━━━━━━━━━━━━━━━━\u001b[0m \u001b[32m21.1/21.1 MB\u001b[0m \u001b[31m82.2 MB/s\u001b[0m eta \u001b[36m0:00:00\u001b[0m:00:01\u001b[0m00:01\u001b[0m\n",
      "\u001b[?25hInstalling collected packages: nvidia-nvjitlink-cu12, nvidia-curand-cu12, nvidia-cufft-cu12, nvidia-cublas-cu12, nvidia-cusparse-cu12, nvidia-cudnn-cu12, nvidia-cusolver-cu12\n",
      "  Attempting uninstall: nvidia-nvjitlink-cu12\n",
      "    Found existing installation: nvidia-nvjitlink-cu12 12.9.41\n",
      "    Uninstalling nvidia-nvjitlink-cu12-12.9.41:\n",
      "      Successfully uninstalled nvidia-nvjitlink-cu12-12.9.41\n",
      "  Attempting uninstall: nvidia-curand-cu12\n",
      "    Found existing installation: nvidia-curand-cu12 10.3.10.19\n",
      "    Uninstalling nvidia-curand-cu12-10.3.10.19:\n",
      "      Successfully uninstalled nvidia-curand-cu12-10.3.10.19\n",
      "  Attempting uninstall: nvidia-cufft-cu12\n",
      "    Found existing installation: nvidia-cufft-cu12 11.4.0.6\n",
      "    Uninstalling nvidia-cufft-cu12-11.4.0.6:\n",
      "      Successfully uninstalled nvidia-cufft-cu12-11.4.0.6\n",
      "  Attempting uninstall: nvidia-cublas-cu12\n",
      "    Found existing installation: nvidia-cublas-cu12 12.9.0.13\n",
      "    Uninstalling nvidia-cublas-cu12-12.9.0.13:\n",
      "      Successfully uninstalled nvidia-cublas-cu12-12.9.0.13\n",
      "  Attempting uninstall: nvidia-cusparse-cu12\n",
      "    Found existing installation: nvidia-cusparse-cu12 12.5.9.5\n",
      "    Uninstalling nvidia-cusparse-cu12-12.5.9.5:\n",
      "      Successfully uninstalled nvidia-cusparse-cu12-12.5.9.5\n",
      "  Attempting uninstall: nvidia-cudnn-cu12\n",
      "    Found existing installation: nvidia-cudnn-cu12 9.3.0.75\n",
      "    Uninstalling nvidia-cudnn-cu12-9.3.0.75:\n",
      "      Successfully uninstalled nvidia-cudnn-cu12-9.3.0.75\n",
      "  Attempting uninstall: nvidia-cusolver-cu12\n",
      "    Found existing installation: nvidia-cusolver-cu12 11.7.4.40\n",
      "    Uninstalling nvidia-cusolver-cu12-11.7.4.40:\n",
      "      Successfully uninstalled nvidia-cusolver-cu12-11.7.4.40\n",
      "Successfully installed nvidia-cublas-cu12-12.4.5.8 nvidia-cudnn-cu12-9.1.0.70 nvidia-cufft-cu12-11.2.1.3 nvidia-curand-cu12-10.3.5.147 nvidia-cusolver-cu12-11.6.1.9 nvidia-cusparse-cu12-12.3.1.170 nvidia-nvjitlink-cu12-12.4.127\n"
     ]
    }
   ],
   "source": [
    "# Install required libraries\n",
    "!pip install torch torchaudio numpy pandas librosa scikit-learn matplotlib seaborn\n",
    "\n",
    "import numpy as np\n",
    "import pandas as pd\n",
    "import librosa\n",
    "import os\n",
    "import torch\n",
    "import torch.nn as nn\n",
    "import torch.utils.data as data\n",
    "from sklearn.model_selection import train_test_split\n",
    "from sklearn.metrics import confusion_matrix, f1_score, accuracy_score\n",
    "from sklearn.preprocessing import StandardScaler, LabelEncoder\n",
    "import seaborn as sns\n",
    "import matplotlib.pyplot as plt\n",
    "import warnings\n",
    "warnings.filterwarnings('ignore')"
   ]
  },
  {
   "cell_type": "markdown",
   "metadata": {},
   "source": [
    "# Set random seed for reproducibility"
   ]
  },
  {
   "cell_type": "code",
   "execution_count": 7,
   "metadata": {
    "execution": {
     "iopub.execute_input": "2025-06-25T13:12:33.597382Z",
     "iopub.status.busy": "2025-06-25T13:12:33.597096Z",
     "iopub.status.idle": "2025-06-25T13:12:33.607958Z",
     "shell.execute_reply": "2025-06-25T13:12:33.607199Z",
     "shell.execute_reply.started": "2025-06-25T13:12:33.597363Z"
    },
    "trusted": true
   },
   "outputs": [
    {
     "name": "stdout",
     "output_type": "stream",
     "text": [
      "Device: cuda\n",
      "Dataset path: /kaggle/input/ravdess-speech\n",
      "Contents: ['Audio_Song_Actors_01-24', 'Audio_Speech_Actors_01-24']\n"
     ]
    }
   ],
   "source": [
    "# Set random seed for reproducibility\n",
    "seed = 42\n",
    "np.random.seed(seed)\n",
    "torch.manual_seed(seed)\n",
    "if torch.cuda.is_available():\n",
    "    torch.cuda.manual_seed_all(seed)\n",
    "\n",
    "# Define device\n",
    "device = torch.device(\"cuda\" if torch.cuda.is_available() else \"cpu\")\n",
    "print(f\"Device: {device}\")\n",
    "\n",
    "# Define dataset path\n",
    "dataset_slug = 'ravdess-speech'\n",
    "dataset_path = f'/kaggle/input/{dataset_slug}'\n",
    "data_dirs = [\n",
    "    f'{dataset_path}/Audio_Speech_Actors_01-24',\n",
    "    f'{dataset_path}/Audio_Song_Actors_01-24'\n",
    "]\n",
    "\n",
    "# Verify paths\n",
    "print(\"Dataset path:\", dataset_path)\n",
    "print(\"Contents:\", os.listdir(dataset_path))"
   ]
  },
  {
   "cell_type": "markdown",
   "metadata": {},
   "source": [
    "# Define emotion mapping (including neutral)"
   ]
  },
  {
   "cell_type": "code",
   "execution_count": 9,
   "metadata": {
    "execution": {
     "iopub.execute_input": "2025-06-25T13:12:38.669199Z",
     "iopub.status.busy": "2025-06-25T13:12:38.668456Z",
     "iopub.status.idle": "2025-06-25T13:12:38.672784Z",
     "shell.execute_reply": "2025-06-25T13:12:38.672080Z",
     "shell.execute_reply.started": "2025-06-25T13:12:38.669175Z"
    },
    "trusted": true
   },
   "outputs": [],
   "source": [
    "# Define emotion mapping (including neutral)\n",
    "labels_map = {\n",
    "    'neutral': 0, 'calm': 1, 'happy': 2, 'sad': 3,\n",
    "    'angry': 4, 'fearful': 5, 'disgust': 6, 'surprised': 7\n",
    "}\n",
    "emotion_names = list(labels_map.keys())"
   ]
  },
  {
   "cell_type": "markdown",
   "metadata": {},
   "source": [
    "# Define augmentation functions"
   ]
  },
  {
   "cell_type": "code",
   "execution_count": 10,
   "metadata": {
    "execution": {
     "iopub.execute_input": "2025-06-25T13:12:39.014103Z",
     "iopub.status.busy": "2025-06-25T13:12:39.013501Z",
     "iopub.status.idle": "2025-06-25T13:12:39.019083Z",
     "shell.execute_reply": "2025-06-25T13:12:39.018186Z",
     "shell.execute_reply.started": "2025-06-25T13:12:39.014081Z"
    },
    "trusted": true
   },
   "outputs": [],
   "source": [
    "# Define augmentation functions\n",
    "def noise(data):\n",
    "    noise_amp = 0.035 * np.random.uniform() * np.amax(data)\n",
    "    data = data + noise_amp * np.random.normal(size=data.shape[0])\n",
    "    return data\n",
    "\n",
    "def stretch(data, rate=0.8):\n",
    "    return librosa.effects.time_stretch(data, rate=rate)\n",
    "\n",
    "def shift(data):\n",
    "    shift_range = int(np.random.uniform(low=-2, high=2) * 1000)\n",
    "    return np.roll(data, shift_range)\n",
    "\n",
    "def pitch(data, sampling_rate, pitch_factor=0.7):\n",
    "    return librosa.effects.pitch_shift(data, sr=sampling_rate, n_steps=pitch_factor)\n"
   ]
  },
  {
   "cell_type": "markdown",
   "metadata": {},
   "source": [
    "# Step 1: Collect file paths and labels (include neutral)"
   ]
  },
  {
   "cell_type": "code",
   "execution_count": 11,
   "metadata": {
    "execution": {
     "iopub.execute_input": "2025-06-25T13:12:42.497262Z",
     "iopub.status.busy": "2025-06-25T13:12:42.496965Z",
     "iopub.status.idle": "2025-06-25T13:12:42.501985Z",
     "shell.execute_reply": "2025-06-25T13:12:42.501115Z",
     "shell.execute_reply.started": "2025-06-25T13:12:42.497240Z"
    },
    "trusted": true
   },
   "outputs": [],
   "source": [
    "# Step 1: Collect file paths and labels (include neutral)\n",
    "def get_emotion_from_filename(file):\n",
    "    try:\n",
    "        # RAVDESS filename format: 03-01-XX-01-01-01-01.wav\n",
    "        emotion_code = int(file.split('-')[2])\n",
    "        emotion_map = {\n",
    "            1: 'neutral', 2: 'calm', 3: 'happy', 4: 'sad',\n",
    "            5: 'angry', 6: 'fearful', 7: 'disgust', 8: 'surprised'\n",
    "        }\n",
    "        return emotion_map.get(emotion_code, None)\n",
    "    except:\n",
    "        return None"
   ]
  },
  {
   "cell_type": "code",
   "execution_count": 12,
   "metadata": {
    "execution": {
     "iopub.execute_input": "2025-06-25T13:12:44.994848Z",
     "iopub.status.busy": "2025-06-25T13:12:44.994339Z",
     "iopub.status.idle": "2025-06-25T13:12:45.000336Z",
     "shell.execute_reply": "2025-06-25T13:12:44.999448Z",
     "shell.execute_reply.started": "2025-06-25T13:12:44.994827Z"
    },
    "trusted": true
   },
   "outputs": [],
   "source": [
    "def collect_files_and_labels(data_dirs, labels_map):\n",
    "    file_paths = []\n",
    "    labels = []\n",
    "    for data_dir in data_dirs:\n",
    "        if not os.path.exists(data_dir):\n",
    "            print(f\"Error: Directory not found: {data_dir}\")\n",
    "            continue\n",
    "        print(f\"Collecting files from: {data_dir}\")\n",
    "        for root, _, files in os.walk(data_dir):\n",
    "            for file in files:\n",
    "                if file.endswith('.wav'):\n",
    "                    file_path = os.path.join(root, file)\n",
    "                    emotion = get_emotion_from_filename(file)\n",
    "                    if emotion in labels_map:\n",
    "                        file_paths.append(file_path)\n",
    "                        labels.append(labels_map[emotion])\n",
    "                    else:\n",
    "                        print(f\"Skipping file {file}: Emotion {emotion} not in labels_map\")\n",
    "    if not file_paths:\n",
    "        raise ValueError(\"No valid audio files found.\")\n",
    "    return file_paths, labels"
   ]
  },
  {
   "cell_type": "markdown",
   "metadata": {},
   "source": [
    "# Perform train-test split"
   ]
  },
  {
   "cell_type": "code",
   "execution_count": 13,
   "metadata": {
    "execution": {
     "iopub.execute_input": "2025-06-25T13:12:48.831378Z",
     "iopub.status.busy": "2025-06-25T13:12:48.830737Z",
     "iopub.status.idle": "2025-06-25T13:12:52.896088Z",
     "shell.execute_reply": "2025-06-25T13:12:52.895447Z",
     "shell.execute_reply.started": "2025-06-25T13:12:48.831356Z"
    },
    "trusted": true
   },
   "outputs": [
    {
     "name": "stdout",
     "output_type": "stream",
     "text": [
      "Collecting files from: /kaggle/input/ravdess-speech/Audio_Speech_Actors_01-24\n",
      "Collecting files from: /kaggle/input/ravdess-speech/Audio_Song_Actors_01-24\n",
      "Training files: 1961, Validation files: 491\n",
      "Training label distribution: [150 301 301 301 301 301 153 153]\n",
      "Validation label distribution: [38 75 75 75 75 75 39 39]\n"
     ]
    }
   ],
   "source": [
    "# Perform train-test split\n",
    "file_paths, labels = collect_files_and_labels(data_dirs, labels_map)\n",
    "train_paths, val_paths, y_train, y_val = train_test_split(\n",
    "    file_paths, labels, test_size=0.2, random_state=seed, stratify=labels\n",
    ")\n",
    "print(f\"Training files: {len(train_paths)}, Validation files: {len(val_paths)}\")\n",
    "print(\"Training label distribution:\", np.bincount(y_train))\n",
    "print(\"Validation label distribution:\", np.bincount(y_val))"
   ]
  },
  {
   "cell_type": "markdown",
   "metadata": {},
   "source": [
    "# Step 2: Feature extraction"
   ]
  },
  {
   "cell_type": "code",
   "execution_count": 14,
   "metadata": {
    "execution": {
     "iopub.execute_input": "2025-06-25T13:12:52.897418Z",
     "iopub.status.busy": "2025-06-25T13:12:52.897171Z",
     "iopub.status.idle": "2025-06-25T13:12:52.904655Z",
     "shell.execute_reply": "2025-06-25T13:12:52.903936Z",
     "shell.execute_reply.started": "2025-06-25T13:12:52.897399Z"
    },
    "trusted": true
   },
   "outputs": [],
   "source": [
    "# Step 2: Feature extraction\n",
    "def extract_features(audio, sr=22050, max_length=216):\n",
    "    try:\n",
    "        mfcc = librosa.feature.mfcc(y=audio, sr=sr, n_mfcc=13)\n",
    "        delta_mfcc = librosa.feature.delta(mfcc)\n",
    "        delta_delta_mfcc = librosa.feature.delta(mfcc, order=2)\n",
    "        chroma = librosa.feature.chroma_stft(y=audio, sr=sr)\n",
    "        mel = librosa.feature.melspectrogram(y=audio, sr=sr)\n",
    "        zcr = librosa.feature.zero_crossing_rate(y=audio)\n",
    "        spectral_contrast = librosa.feature.spectral_contrast(y=audio, sr=sr)\n",
    "        \n",
    "        def pad_or_truncate(feature, max_len):\n",
    "            if feature.shape[1] > max_len:\n",
    "                return feature[:, :max_len]\n",
    "            elif feature.shape[1] > 0:\n",
    "                return np.pad(feature, ((0, 0), (0, max_len - feature.shape[1])), mode='constant')\n",
    "            else:\n",
    "                return np.zeros((feature.shape[0], max_len))\n",
    "        \n",
    "        mfcc = pad_or_truncate(mfcc, max_length)\n",
    "        delta_mfcc = pad_or_truncate(delta_mfcc, max_length)\n",
    "        delta_delta_mfcc = pad_or_truncate(delta_delta_mfcc, max_length)\n",
    "        chroma = pad_or_truncate(chroma, max_length)\n",
    "        mel = pad_or_truncate(mel, max_length)\n",
    "        zcr = pad_or_truncate(zcr, max_length)\n",
    "        spectral_contrast = pad_or_truncate(spectral_contrast, max_length)\n",
    "        \n",
    "        features = np.concatenate((mfcc, delta_mfcc, delta_delta_mfcc, chroma, mel, zcr, spectral_contrast), axis=0)\n",
    "        return features\n",
    "    except Exception as e:\n",
    "        print(f\"Error processing audio: {e}\")\n",
    "        return None"
   ]
  },
  {
   "cell_type": "markdown",
   "metadata": {},
   "source": [
    "# Step 3: Process data with augmentation"
   ]
  },
  {
   "cell_type": "code",
   "execution_count": 15,
   "metadata": {
    "execution": {
     "iopub.execute_input": "2025-06-25T13:13:06.617919Z",
     "iopub.status.busy": "2025-06-25T13:13:06.617609Z",
     "iopub.status.idle": "2025-06-25T13:21:43.052110Z",
     "shell.execute_reply": "2025-06-25T13:21:43.051203Z",
     "shell.execute_reply.started": "2025-06-25T13:13:06.617900Z"
    },
    "trusted": true
   },
   "outputs": [
    {
     "name": "stdout",
     "output_type": "stream",
     "text": [
      "Training samples: 3922, Features shape: (187, 216)\n",
      "Validation samples: 491, Features shape: (187, 216)\n"
     ]
    }
   ],
   "source": [
    "# Step 3: Process data with augmentation\n",
    "def process_data(train_paths, val_paths, y_train, y_val, augment_count=1):\n",
    "    X_train = []\n",
    "    y_train_aug = []\n",
    "    X_val = []\n",
    "    y_val_orig = []\n",
    "    \n",
    "    for path, label in zip(train_paths, y_train):\n",
    "        try:\n",
    "            audio, sr = librosa.load(path, sr=22050)\n",
    "            features = extract_features(audio, sr)\n",
    "            if features is not None:\n",
    "                X_train.append(features)\n",
    "                y_train_aug.append(label)\n",
    "            \n",
    "            augmentations = [noise, stretch, shift, pitch]\n",
    "            for _ in range(augment_count):\n",
    "                try:\n",
    "                    aug_audio = audio.copy()\n",
    "                    for aug in np.random.choice(augmentations, size=np.random.randint(1, len(augmentations)), replace=False):\n",
    "                        if aug == pitch:\n",
    "                            aug_audio = aug(aug_audio, sr, pitch_factor=np.random.uniform(-1, 1))\n",
    "                        elif aug == stretch:\n",
    "                            aug_audio = aug(aug_audio, rate=np.random.uniform(0.8, 1.2))\n",
    "                        else:\n",
    "                            aug_audio = aug(aug_audio)\n",
    "                    features = extract_features(aug_audio, sr)\n",
    "                    if features is not None:\n",
    "                        X_train.append(features)\n",
    "                        y_train_aug.append(label)\n",
    "                except Exception as e:\n",
    "                    print(f\"Augmentation failed for {path}: {e}\")\n",
    "        except Exception as e:\n",
    "            print(f\"Error processing {path}: {e}\")\n",
    "    \n",
    "    for path, label in zip(val_paths, y_val):\n",
    "        try:\n",
    "            audio, sr = librosa.load(path, sr=22050)\n",
    "            features = extract_features(audio, sr)\n",
    "            if features is not None:\n",
    "                X_val.append(features)\n",
    "                y_val_orig.append(label)\n",
    "        except Exception as e:\n",
    "            print(f\"Error processing {path}: {e}\")\n",
    "    \n",
    "    X_train = np.array(X_train)\n",
    "    y_train_aug = np.array(y_train_aug)\n",
    "    X_val = np.array(X_val)\n",
    "    y_val_orig = np.array(y_val_orig)\n",
    "    \n",
    "    def features_to_df(X, y, feature_names, max_length):\n",
    "        n_features = X.shape[1]\n",
    "        data = []\n",
    "        for i in range(X.shape[0]):\n",
    "            sample = {}\n",
    "            for f_idx in range(n_features):\n",
    "                feature_name = feature_names[f_idx]\n",
    "                for t in range(max_length):\n",
    "                    sample[f\"{feature_name}_{t}\"] = X[i, f_idx, t]\n",
    "            sample['label'] = emotion_names[y[i]]\n",
    "            data.append(sample)\n",
    "        return pd.DataFrame(data)\n",
    "    \n",
    "    feature_names = (\n",
    "        [f\"mfcc_{i}\" for i in range(13)] +\n",
    "        [f\"delta_mfcc_{i}\" for i in range(13)] +\n",
    "        [f\"delta_delta_mfcc_{i}\" for i in range(13)] +\n",
    "        [f\"chroma_{i}\" for i in range(12)] +\n",
    "        [f\"mel_{i}\" for i in range(128)] +\n",
    "        ['zcr'] +\n",
    "        [f\"spectral_contrast_{i}\" for i in range(7)]\n",
    "    )\n",
    "    \n",
    "    df_train = features_to_df(X_train, y_train_aug, feature_names, max_length=216)\n",
    "    df_val = features_to_df(X_val, y_val_orig, feature_names, max_length=216)\n",
    "    \n",
    "    X_train_df = df_train.drop('label', axis=1)\n",
    "    y_train_df = df_train['label']\n",
    "    X_val_df = df_val.drop('label', axis=1)\n",
    "    y_val_df = df_val['label']\n",
    "    \n",
    "    scaler = StandardScaler()\n",
    "    X_train_scaled = scaler.fit_transform(X_train_df)\n",
    "    X_val_scaled = scaler.transform(X_val_df)\n",
    "    \n",
    "    X_train = X_train_scaled.reshape(X_train.shape[0], len(feature_names), 216)\n",
    "    X_val = X_val_scaled.reshape(X_val.shape[0], len(feature_names), 216)\n",
    "    \n",
    "    le = LabelEncoder()\n",
    "    y_train_encoded = le.fit_transform(y_train_df)\n",
    "    y_val_encoded = le.transform(y_val_df)\n",
    "    \n",
    "    print(f\"Training samples: {X_train.shape[0]}, Features shape: {X_train.shape[1:]}\")\n",
    "    print(f\"Validation samples: {X_val.shape[0]}, Features shape: {X_val.shape[1:]}\")\n",
    "    return X_train, y_train_encoded, X_val, y_val_encoded, le\n",
    "\n",
    "# Execute data preparation\n",
    "X_train, y_train, X_val, y_val, le = process_data(train_paths, val_paths, y_train, y_val, augment_count=1)"
   ]
  },
  {
   "cell_type": "markdown",
   "metadata": {},
   "source": [
    "# Step 4: Define Luong Attention"
   ]
  },
  {
   "cell_type": "code",
   "execution_count": 16,
   "metadata": {
    "execution": {
     "iopub.execute_input": "2025-06-25T13:28:39.445150Z",
     "iopub.status.busy": "2025-06-25T13:28:39.444603Z",
     "iopub.status.idle": "2025-06-25T13:28:39.452570Z",
     "shell.execute_reply": "2025-06-25T13:28:39.451781Z",
     "shell.execute_reply.started": "2025-06-25T13:28:39.445129Z"
    },
    "trusted": true
   },
   "outputs": [],
   "source": [
    "# Step 4: Define Luong Attention\n",
    "class LuongAttention(nn.Module):\n",
    "    def __init__(self):\n",
    "        super(LuongAttention, self).__init__()\n",
    "    \n",
    "    def forward(self, lstm_output, hidden):\n",
    "        # lstm_output: [batch, seq_len, hidden_size * 2]\n",
    "        # hidden: [num_layers * 2, batch, hidden_size]\n",
    "        hidden = hidden[-2:].transpose(0, 1).contiguous()  # [batch, 2, hidden_size]\n",
    "        hidden = hidden.view(hidden.size(0), -1)  # [batch, hidden_size * 2]\n",
    "        \n",
    "        scores = torch.bmm(lstm_output, hidden.unsqueeze(2))  # [batch, seq_len, 1]\n",
    "        weights = torch.softmax(scores, dim=1)  # [batch, seq_len, 1]\n",
    "        \n",
    "        context = torch.bmm(lstm_output.transpose(1, 2), weights).squeeze(2)  # [batch, hidden_size * 2]\n",
    "        combined = torch.cat((context, hidden), dim=1)  # [batch, hidden_size * 4]\n",
    "        return combined"
   ]
  },
  {
   "cell_type": "markdown",
   "metadata": {},
   "source": [
    "# Step 5: Define CNN-LSTM-Attention Model"
   ]
  },
  {
   "cell_type": "code",
   "execution_count": 17,
   "metadata": {
    "execution": {
     "iopub.execute_input": "2025-06-25T13:28:42.483000Z",
     "iopub.status.busy": "2025-06-25T13:28:42.482364Z",
     "iopub.status.idle": "2025-06-25T13:28:42.492589Z",
     "shell.execute_reply": "2025-06-25T13:28:42.491843Z",
     "shell.execute_reply.started": "2025-06-25T13:28:42.482975Z"
    },
    "trusted": true
   },
   "outputs": [],
   "source": [
    "# Step 5: Define CNN-LSTM-Attention Model\n",
    "class CNN_LSTM_Attention_Model(nn.Module):\n",
    "    def __init__(self, num_features, num_classes, lstm_hidden_size=128, lstm_layers=2):\n",
    "        super(CNN_LSTM_Attention_Model, self).__init__()\n",
    "        self.lstm_hidden_size = lstm_hidden_size\n",
    "        \n",
    "        self.cnn = nn.Sequential(\n",
    "            nn.Conv1d(in_channels=num_features, out_channels=64, kernel_size=3, padding=1),\n",
    "            nn.BatchNorm1d(64),\n",
    "            nn.ReLU(),\n",
    "            nn.Conv1d(in_channels=64, out_channels=128, kernel_size=3, padding=1),\n",
    "            nn.BatchNorm1d(128),\n",
    "            nn.ReLU(),\n",
    "            nn.MaxPool1d(kernel_size=2)\n",
    "        )\n",
    "        \n",
    "        self.lstm = nn.LSTM(\n",
    "            input_size=128,\n",
    "            hidden_size=self.lstm_hidden_size,\n",
    "            num_layers=lstm_layers,\n",
    "            batch_first=True,\n",
    "            dropout=0.5,\n",
    "            bidirectional=True\n",
    "        )\n",
    "        \n",
    "        self.attention = LuongAttention()\n",
    "        self.fc = nn.Linear(self.lstm_hidden_size * 4, num_classes)\n",
    "        self.dropout = nn.Dropout(0.5)\n",
    "    \n",
    "    def forward(self, x):\n",
    "        # x: [batch, num_features, seq_len]\n",
    "        x = self.cnn(x)  # [batch, 128, seq_len/2]\n",
    "        x = x.transpose(1, 2)  # [batch, seq_len/2, 128]\n",
    "        lstm_out, (hidden, cell) = self.lstm(x)  # [batch, seq_len/2, hidden_size * 2]\n",
    "        combined = self.attention(lstm_out, hidden)  # [batch, hidden_size * 4]\n",
    "        out = self.dropout(combined)\n",
    "        out = self.fc(out)  # [batch, num_classes]\n",
    "        return out"
   ]
  },
  {
   "cell_type": "markdown",
   "metadata": {},
   "source": [
    "# Step 6: Create DataLoader"
   ]
  },
  {
   "cell_type": "code",
   "execution_count": 18,
   "metadata": {
    "execution": {
     "iopub.execute_input": "2025-06-25T13:28:46.273446Z",
     "iopub.status.busy": "2025-06-25T13:28:46.273168Z",
     "iopub.status.idle": "2025-06-25T13:28:46.920190Z",
     "shell.execute_reply": "2025-06-25T13:28:46.919376Z",
     "shell.execute_reply.started": "2025-06-25T13:28:46.273426Z"
    },
    "trusted": true
   },
   "outputs": [],
   "source": [
    "# Step 6: Create DataLoader\n",
    "class EmotionDataset(torch.utils.data.Dataset):\n",
    "    def __init__(self, X, y):\n",
    "        self.X = torch.FloatTensor(X)  # [samples, num_features, seq_len]\n",
    "        self.y = torch.LongTensor(y)\n",
    "    \n",
    "    def __len__(self):\n",
    "        return len(self.X)\n",
    "    \n",
    "    def __getitem__(self, idx):\n",
    "        return self.X[idx], self.y[idx]\n",
    "\n",
    "train_dataset = EmotionDataset(X_train, y_train)\n",
    "val_dataset = EmotionDataset(X_val, y_val)\n",
    "train_loader = torch.utils.data.DataLoader(train_dataset, batch_size=8, shuffle=True)\n",
    "val_loader = torch.utils.data.DataLoader(val_dataset, batch_size=8, shuffle=False)"
   ]
  },
  {
   "cell_type": "markdown",
   "metadata": {},
   "source": [
    "# Verify data shapes"
   ]
  },
  {
   "cell_type": "code",
   "execution_count": 19,
   "metadata": {
    "execution": {
     "iopub.execute_input": "2025-06-25T13:28:49.325253Z",
     "iopub.status.busy": "2025-06-25T13:28:49.324964Z",
     "iopub.status.idle": "2025-06-25T13:28:49.549411Z",
     "shell.execute_reply": "2025-06-25T13:28:49.548671Z",
     "shell.execute_reply.started": "2025-06-25T13:28:49.325233Z"
    },
    "trusted": true
   },
   "outputs": [
    {
     "name": "stdout",
     "output_type": "stream",
     "text": [
      "Batch X shape: torch.Size([8, 187, 216]), Batch y shape: torch.Size([8])\n"
     ]
    }
   ],
   "source": [
    "# Verify data shapes\n",
    "for X_batch, y_batch in train_loader:\n",
    "    print(f\"Batch X shape: {X_batch.shape}, Batch y shape: {y_batch.shape}\")\n",
    "    break"
   ]
  },
  {
   "cell_type": "markdown",
   "metadata": {},
   "source": [
    "# Step 7: Train and evaluate"
   ]
  },
  {
   "cell_type": "code",
   "execution_count": 21,
   "metadata": {
    "execution": {
     "iopub.execute_input": "2025-06-25T13:28:57.061148Z",
     "iopub.status.busy": "2025-06-25T13:28:57.060356Z",
     "iopub.status.idle": "2025-06-25T13:28:57.070305Z",
     "shell.execute_reply": "2025-06-25T13:28:57.069550Z",
     "shell.execute_reply.started": "2025-06-25T13:28:57.061120Z"
    },
    "trusted": true
   },
   "outputs": [],
   "source": [
    "# Step 7: Train and evaluate\n",
    "def train_model(model, train_loader, val_loader, num_epochs=100, patience=10, device=device):\n",
    "    criterion = nn.CrossEntropyLoss()\n",
    "    optimizer = torch.optim.Adam(model.parameters(), lr=0.0001)\n",
    "    scheduler = torch.optim.lr_scheduler.ReduceLROnPlateau(optimizer, mode='min', factor=0.5, patience=5, min_lr=1e-6)\n",
    "    \n",
    "    model.to(device)\n",
    "    best_val_loss = float('inf')\n",
    "    patience_counter = 0\n",
    "    best_model_state = None\n",
    "    \n",
    "    for epoch in range(num_epochs):\n",
    "        model.train()\n",
    "        train_loss = 0\n",
    "        train_correct = 0\n",
    "        train_total = 0\n",
    "        for X_batch, y_batch in train_loader:\n",
    "            X_batch, y_batch = X_batch.to(device), y_batch.to(device)\n",
    "            optimizer.zero_grad()\n",
    "            outputs = model(X_batch)\n",
    "            loss = criterion(outputs, y_batch)\n",
    "            loss.backward()\n",
    "            optimizer.step()\n",
    "            train_loss += loss.item() * X_batch.size(0)\n",
    "            _, predicted = torch.max(outputs, 1)\n",
    "            train_total += y_batch.size(0)\n",
    "            train_correct += (predicted == y_batch).sum().item()\n",
    "        \n",
    "        train_loss /= len(train_loader.dataset)\n",
    "        train_acc = 100 * train_correct / train_total\n",
    "        \n",
    "        model.eval()\n",
    "        val_loss = 0\n",
    "        val_correct = 0\n",
    "        val_total = 0\n",
    "        with torch.no_grad():\n",
    "            for X_batch, y_batch in val_loader:\n",
    "                X_batch, y_batch = X_batch.to(device), y_batch.to(device)\n",
    "                outputs = model(X_batch)\n",
    "                loss = criterion(outputs, y_batch)\n",
    "                val_loss += loss.item() * X_batch.size(0)\n",
    "                _, predicted = torch.max(outputs, 1)\n",
    "                val_total += y_batch.size(0)\n",
    "                val_correct += (predicted == y_batch).sum().item()\n",
    "        \n",
    "        val_loss /= len(val_loader.dataset)\n",
    "        val_acc = 100 * val_correct / val_total\n",
    "        scheduler.step(val_loss)\n",
    "        \n",
    "        print(f\"Epoch {epoch+1}/{num_epochs}, Train Loss: {train_loss:.4f}, Train Acc: {train_acc:.2f}%, Val Loss: {val_loss:.4f}, Val Acc: {val_acc:.2f}%\")\n",
    "        \n",
    "        if val_loss < best_val_loss:\n",
    "            best_val_loss = val_loss\n",
    "            best_model_state = model.state_dict()\n",
    "            patience_counter = 0\n",
    "        else:\n",
    "            patience_counter += 1\n",
    "            if patience_counter >= patience:\n",
    "                print(\"Early stopping triggered.\")\n",
    "                break\n",
    "    \n",
    "    model.load_state_dict(best_model_state)\n",
    "    return model"
   ]
  },
  {
   "cell_type": "markdown",
   "metadata": {},
   "source": [
    "# Initialize and train model"
   ]
  },
  {
   "cell_type": "code",
   "execution_count": 22,
   "metadata": {
    "execution": {
     "iopub.execute_input": "2025-06-25T13:29:04.134249Z",
     "iopub.status.busy": "2025-06-25T13:29:04.133979Z",
     "iopub.status.idle": "2025-06-25T13:32:03.095596Z",
     "shell.execute_reply": "2025-06-25T13:32:03.094952Z",
     "shell.execute_reply.started": "2025-06-25T13:29:04.134232Z"
    },
    "trusted": true
   },
   "outputs": [
    {
     "name": "stdout",
     "output_type": "stream",
     "text": [
      "Epoch 1/100, Train Loss: 1.9286, Train Acc: 23.66%, Val Loss: 1.7539, Val Acc: 26.48%\n",
      "Epoch 2/100, Train Loss: 1.7116, Train Acc: 32.13%, Val Loss: 1.6464, Val Acc: 34.62%\n",
      "Epoch 3/100, Train Loss: 1.5588, Train Acc: 38.09%, Val Loss: 1.4522, Val Acc: 42.36%\n",
      "Epoch 4/100, Train Loss: 1.4354, Train Acc: 43.22%, Val Loss: 1.5880, Val Acc: 35.64%\n",
      "Epoch 5/100, Train Loss: 1.3115, Train Acc: 48.14%, Val Loss: 1.3206, Val Acc: 48.27%\n",
      "Epoch 6/100, Train Loss: 1.1984, Train Acc: 52.50%, Val Loss: 1.1899, Val Acc: 54.58%\n",
      "Epoch 7/100, Train Loss: 1.1069, Train Acc: 57.83%, Val Loss: 1.1445, Val Acc: 56.62%\n",
      "Epoch 8/100, Train Loss: 1.0068, Train Acc: 62.03%, Val Loss: 1.1124, Val Acc: 56.01%\n",
      "Epoch 9/100, Train Loss: 0.9126, Train Acc: 65.88%, Val Loss: 1.0113, Val Acc: 60.49%\n",
      "Epoch 10/100, Train Loss: 0.8502, Train Acc: 69.12%, Val Loss: 0.9536, Val Acc: 64.77%\n",
      "Epoch 11/100, Train Loss: 0.7674, Train Acc: 72.77%, Val Loss: 0.9043, Val Acc: 66.40%\n",
      "Epoch 12/100, Train Loss: 0.7102, Train Acc: 75.50%, Val Loss: 0.9759, Val Acc: 63.95%\n",
      "Epoch 13/100, Train Loss: 0.6289, Train Acc: 78.25%, Val Loss: 1.0164, Val Acc: 61.10%\n",
      "Epoch 14/100, Train Loss: 0.5862, Train Acc: 79.96%, Val Loss: 1.0438, Val Acc: 62.73%\n",
      "Epoch 15/100, Train Loss: 0.5247, Train Acc: 81.74%, Val Loss: 0.8182, Val Acc: 71.28%\n",
      "Epoch 16/100, Train Loss: 0.4984, Train Acc: 83.17%, Val Loss: 0.7123, Val Acc: 75.97%\n",
      "Epoch 17/100, Train Loss: 0.4553, Train Acc: 84.42%, Val Loss: 0.8161, Val Acc: 73.12%\n",
      "Epoch 18/100, Train Loss: 0.3863, Train Acc: 87.51%, Val Loss: 0.8946, Val Acc: 69.04%\n",
      "Epoch 19/100, Train Loss: 0.3642, Train Acc: 88.35%, Val Loss: 0.6766, Val Acc: 76.37%\n",
      "Epoch 20/100, Train Loss: 0.3660, Train Acc: 87.99%, Val Loss: 1.0032, Val Acc: 67.01%\n",
      "Epoch 21/100, Train Loss: 0.3379, Train Acc: 88.78%, Val Loss: 0.7923, Val Acc: 74.95%\n",
      "Epoch 22/100, Train Loss: 0.3246, Train Acc: 89.34%, Val Loss: 0.8748, Val Acc: 72.71%\n",
      "Epoch 23/100, Train Loss: 0.3028, Train Acc: 89.52%, Val Loss: 0.8508, Val Acc: 72.91%\n",
      "Epoch 24/100, Train Loss: 0.2601, Train Acc: 90.80%, Val Loss: 0.6549, Val Acc: 80.65%\n",
      "Epoch 25/100, Train Loss: 0.2362, Train Acc: 92.35%, Val Loss: 0.6609, Val Acc: 78.21%\n",
      "Epoch 26/100, Train Loss: 0.2221, Train Acc: 92.63%, Val Loss: 0.7582, Val Acc: 78.41%\n",
      "Epoch 27/100, Train Loss: 0.2254, Train Acc: 93.06%, Val Loss: 0.7481, Val Acc: 79.23%\n",
      "Epoch 28/100, Train Loss: 0.1977, Train Acc: 93.52%, Val Loss: 0.7487, Val Acc: 79.02%\n",
      "Epoch 29/100, Train Loss: 0.1912, Train Acc: 93.63%, Val Loss: 0.8196, Val Acc: 76.17%\n",
      "Epoch 30/100, Train Loss: 0.1616, Train Acc: 94.80%, Val Loss: 0.8202, Val Acc: 76.78%\n",
      "Epoch 31/100, Train Loss: 0.1136, Train Acc: 96.35%, Val Loss: 0.7359, Val Acc: 79.23%\n",
      "Epoch 32/100, Train Loss: 0.0933, Train Acc: 97.35%, Val Loss: 0.8162, Val Acc: 78.82%\n",
      "Epoch 33/100, Train Loss: 0.0838, Train Acc: 97.55%, Val Loss: 0.8687, Val Acc: 78.00%\n",
      "Epoch 34/100, Train Loss: 0.0812, Train Acc: 97.68%, Val Loss: 0.8294, Val Acc: 77.80%\n",
      "Early stopping triggered.\n"
     ]
    }
   ],
   "source": [
    "# Initialize and train model\n",
    "num_features = X_train.shape[1]  # 187\n",
    "num_classes = len(labels_map)  # 8\n",
    "model = CNN_LSTM_Attention_Model(num_features, num_classes)\n",
    "model = train_model(model, train_loader, val_loader)\n"
   ]
  },
  {
   "cell_type": "markdown",
   "metadata": {},
   "source": [
    "# Step 8: Evaluate"
   ]
  },
  {
   "cell_type": "code",
   "execution_count": 24,
   "metadata": {
    "execution": {
     "iopub.execute_input": "2025-06-25T13:32:51.746577Z",
     "iopub.status.busy": "2025-06-25T13:32:51.745879Z",
     "iopub.status.idle": "2025-06-25T13:32:52.881634Z",
     "shell.execute_reply": "2025-06-25T13:32:52.881119Z",
     "shell.execute_reply.started": "2025-06-25T13:32:51.746554Z"
    },
    "trusted": true
   },
   "outputs": [
    {
     "name": "stdout",
     "output_type": "stream",
     "text": [
      "Confusion matrix shape: (8, 8)\n",
      "LabelEncoder classes: ['angry' 'calm' 'disgust' 'fearful' 'happy' 'neutral' 'sad' 'surprised']\n",
      "Validation label distribution: [75 75 39 75 75 38 75 39]\n",
      "Predicted label distribution: [84 66 40 69 62 48 79 43]\n",
      "Per-class F1 scores:\n",
      "angry: 85.53%\n",
      "calm: 82.27%\n",
      "disgust: 83.54%\n",
      "fearful: 68.06%\n",
      "happy: 80.29%\n",
      "neutral: 76.74%\n",
      "sad: 68.83%\n",
      "surprised: 80.49%\n",
      "Weighted F1 Score: 77.77%\n",
      "Overall Accuracy: 77.80%\n",
      "Class-wise Accuracies:\n",
      "angry: 90.67%\n",
      "calm: 77.33%\n",
      "disgust: 84.62%\n",
      "fearful: 65.33%\n",
      "happy: 73.33%\n",
      "neutral: 86.84%\n",
      "sad: 70.67%\n",
      "surprised: 84.62%\n"
     ]
    },
    {
     "data": {
      "image/png": "[encoded data removed]",
      "text/plain": [
       "<Figure size 1000x800 with 2 Axes>"
      ]
     },
     "metadata": {},
     "output_type": "display_data"
    }
   ],
   "source": [
    "# Step 8: Evaluate\n",
    "def evaluate_model(model, val_loader, le, device=device):\n",
    "    model.eval()\n",
    "    y_true = []\n",
    "    y_pred = []\n",
    "    with torch.no_grad():\n",
    "        for X_batch, y_batch in val_loader:\n",
    "            X_batch = X_batch.to(device)\n",
    "            outputs = model(X_batch)\n",
    "            _, preds = torch.max(outputs, 1)\n",
    "            y_true.extend(y_batch.numpy())\n",
    "            y_pred.extend(preds.cpu().numpy())\n",
    "    \n",
    "    y_true = np.array(y_true)\n",
    "    y_pred = np.array(y_pred)\n",
    "    \n",
    "    f1 = f1_score(y_true, y_pred, average='weighted') * 100\n",
    "    accuracy = accuracy_score(y_true, y_pred) * 100\n",
    "    cm = confusion_matrix(y_true, y_pred)\n",
    "    \n",
    "    print(f\"Confusion matrix shape: {cm.shape}\")\n",
    "    print(f\"LabelEncoder classes: {le.classes_}\")\n",
    "    print(f\"Validation label distribution: {np.bincount(y_true, minlength=len(le.classes_))}\")\n",
    "    print(f\"Predicted label distribution: {np.bincount(y_pred, minlength=len(le.classes_))}\")\n",
    "    print(\"Per-class F1 scores:\")\n",
    "    class_f1 = f1_score(y_true, y_pred, average=None) * 100\n",
    "    for idx, emotion in enumerate(le.classes_):\n",
    "        print(f\"{emotion}: {class_f1[idx]:.2f}%\")\n",
    "    \n",
    "    class_accuracies = np.zeros(len(le.classes_))\n",
    "    cm_diag = cm.diagonal()\n",
    "    cm_sums = cm.sum(axis=1)\n",
    "    for i in range(min(cm.shape[0], len(le.classes_))):\n",
    "        if cm_sums[i] > 0:\n",
    "            class_accuracies[i] = cm_diag[i] / cm_sums[i] * 100\n",
    "    \n",
    "    print(f\"Weighted F1 Score: {f1:.2f}%\")\n",
    "    print(f\"Overall Accuracy: {accuracy:.2f}%\")\n",
    "    print(\"Class-wise Accuracies:\")\n",
    "    for idx, emotion in enumerate(le.classes_):\n",
    "        print(f\"{emotion}: {class_accuracies[idx]:.2f}%\")\n",
    "    \n",
    "    plt.figure(figsize=(10, 8))\n",
    "    sns.heatmap(cm, annot=True, fmt='d', cmap='Blues', xticklabels=le.classes_, yticklabels=le.classes_)\n",
    "    plt.title('Confusion Matrix')\n",
    "    plt.ylabel('True Label')\n",
    "    plt.xlabel('Predicted Label')\n",
    "    plt.show()\n",
    "\n",
    "evaluate_model(model, val_loader, le)\n",
    "\n",
    "# Save model\n",
    "torch.save(model.state_dict(), '/kaggle/working/emotion_classification_model.pth')"
   ]
  },
  {
   "cell_type": "code",
   "execution_count": null,
   "metadata": {
    "trusted": true
   },
   "outputs": [],
   "source": []
  }
 ],
 "metadata": {
  "kaggle": {
   "accelerator": "nvidiaTeslaT4",
   "dataSources": [
    {
     "datasetId": 7739807,
     "sourceId": 12281335,
     "sourceType": "datasetVersion"
    }
   ],
   "dockerImageVersionId": 31041,
   "isGpuEnabled": true,
   "isInternetEnabled": true,
   "language": "python",
   "sourceType": "notebook"
  },
  "kernelspec": {
   "display_name": "base",
   "language": "python",
   "name": "python3"
  },
  "language_info": {
   "codemirror_mode": {
    "name": "ipython",
    "version": 3
   },
   "file_extension": ".py",
   "mimetype": "text/x-python",
   "name": "python",
   "nbconvert_exporter": "python",
   "pygments_lexer": "ipython3",
   "version": "3.11.5"
  }
 },
 "nbformat": 4,
 "nbformat_minor": 4
}
